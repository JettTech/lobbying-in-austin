{
 "cells": [
  {
   "cell_type": "markdown",
   "metadata": {},
   "source": [
    "This notebook takes TX state lobbying records and tries to create a chart that shows what lobbyists favor which\n",
    "political parties. The output is a gephi file called lobby.gexf. I started with these files: \n",
    "\n",
    "LaTran.csv, which is from the TEC here: https://www.ethics.state.tx.us/dfs/search_LOBBY.html.\n",
    "\n",
    "tx_legislators.csv, from http://openstates.org/csv_downloads/\n",
    "\n",
    "then made these changes with csvkit:\n",
    "\n",
    "csvcut -c 1,4,5,6,15,14,13,16,17,11,31 LaTran.csv > TXTran.csv\n",
    "csvcut -c 1,2,3,4,5,12,10,11,8,13 tx_legislators.csv > TXLeg.csv"
   ]
  },
  {
   "cell_type": "code",
   "execution_count": 1,
   "metadata": {},
   "outputs": [],
   "source": [
    "import csv\n",
    "\n",
    "file = 'data/TXTran.csv'\n",
    "file2 = 'data/TXLeg.csv'\n",
    "\n",
    "newFile = open(file)\n",
    "newReader = csv.reader(newFile)\n",
    "newData = list(newReader)\n",
    "\n",
    "travel = []\n",
    "leg = []\n",
    "\n",
    "for row in newData[1:]:\n",
    "    travel.append(row)\n",
    "\n",
    "legFile = open(file2)\n",
    "legReader = csv.reader(legFile)\n",
    "legData = list(legReader)\n",
    "\n",
    "for row in legData[1:]:\n",
    "    leg.append(row)"
   ]
  },
  {
   "cell_type": "code",
   "execution_count": 2,
   "metadata": {},
   "outputs": [
    {
     "name": "stdout",
     "output_type": "stream",
     "text": [
      "['301', '2005', '00010205', 'Johnson, Thomas L.', 'Mr.', 'John', 'Whitmire', '', 'AGC of Texas 2005 Management Conference', 'TXL000211', 'Democratic', 'upper', '15', 'True', 'c2c2d651cb9f4bd3b00364f8d9b84715', 'John Whitmire']\n"
     ]
    }
   ],
   "source": [
    "from fuzzywuzzy import fuzz\n",
    "\n",
    "travelFound = []\n",
    "\n",
    "for item in travel:\n",
    "    itemname = item[5] + ' ' + item[6]\n",
    "    found = False\n",
    "    for person in leg:\n",
    "        personname = person[2] + ' ' + person[4]\n",
    "        if itemname == personname or itemname == person[1]:\n",
    "            found = True\n",
    "            item.extend([person[0],person[5],person[6],person[7],person[8],person[9],personname])\n",
    "            travelFound.append(item)\n",
    "    if found == False:\n",
    "        for person in leg:\n",
    "            if fuzz.token_sort_ratio(itemname, personname) > 80:\n",
    "                found = True\n",
    "                item.extend([person[0],person[5],person[6],person[7],person[8],person[9],personname])\n",
    "                print(itemname + ' fuzzy match ' + personname)\n",
    "                travelFound.append(item)\n",
    "    # if found == False:\n",
    "        # print('No match found for ' + itemname)\n",
    "\n",
    "print(travelFound[5])"
   ]
  },
  {
   "cell_type": "code",
   "execution_count": 3,
   "metadata": {},
   "outputs": [],
   "source": [
    "import networkx as nx\n",
    "G=nx.MultiDiGraph()\n",
    "\n",
    "for row in travelFound:\n",
    "    G.add_node(row[2], name=row[3], role=\"Lobbyist\")\n",
    "    G.add_node(row[9], name=row[-1], role=row[10])\n",
    "    G.add_edge(row[2], row[9], gift=\"Travel\", year=row[1], detail=row[8])\n"
   ]
  },
  {
   "cell_type": "code",
   "execution_count": 4,
   "metadata": {},
   "outputs": [
    {
     "data": {
      "text/plain": [
       "[('TXL000463', {'name': 'Drew Springer', 'role': 'Republican'}),\n",
       " ('00041073', {'name': 'Howe, Billy', 'role': 'Lobbyist'}),\n",
       " ('TXL000209', {'name': 'Jeff Wentworth', 'role': ''}),\n",
       " ('TXL000323', {'name': 'Solomon Ortiz', 'role': ''}),\n",
       " ('TXL000352', {'name': 'Senfronia Thompson', 'role': 'Democratic'}),\n",
       " ('TXL000197', {'name': 'Mike Jackson', 'role': ''}),\n",
       " ('TXL000182', {'name': 'Kip Averitt', 'role': ''}),\n",
       " ('00066090', {'name': 'Anti-Defamation League', 'role': 'Lobbyist'}),\n",
       " ('00011961', {'name': 'Looney, Robert L.', 'role': 'Lobbyist'}),\n",
       " ('TXL000243', {'name': 'John Davis', 'role': ''}),\n",
       " ('TXL000227', {'name': 'Lon Burnam', 'role': ''}),\n",
       " ('00014717', {'name': 'Stewart, Michael K.', 'role': 'Lobbyist'}),\n",
       " ('TXL000253', {'name': 'Gary Elkins', 'role': 'Republican'}),\n",
       " ('00052912', {'name': 'Barton, Yvonne', 'role': 'Lobbyist'}),\n",
       " ('TXL000252', {'name': 'Rob Eissler', 'role': ''})]"
      ]
     },
     "execution_count": 4,
     "metadata": {},
     "output_type": "execute_result"
    }
   ],
   "source": [
    "G.nodes(data=True)[:15]"
   ]
  },
  {
   "cell_type": "code",
   "execution_count": 5,
   "metadata": {},
   "outputs": [
    {
     "data": {
      "text/plain": [
       "True"
      ]
     },
     "execution_count": 5,
     "metadata": {},
     "output_type": "execute_result"
    }
   ],
   "source": [
    "G.is_directed()"
   ]
  },
  {
   "cell_type": "code",
   "execution_count": 6,
   "metadata": {},
   "outputs": [
    {
     "data": {
      "text/plain": [
       "{'name': 'John Whitmire', 'role': 'Democratic'}"
      ]
     },
     "execution_count": 6,
     "metadata": {},
     "output_type": "execute_result"
    }
   ],
   "source": [
    "G.node['TXL000211']"
   ]
  },
  {
   "cell_type": "code",
   "execution_count": 7,
   "metadata": {},
   "outputs": [
    {
     "data": {
      "text/plain": [
       "{'00010038': 1,\n",
       " '00010066': 1,\n",
       " '00010205': 145,\n",
       " '00010273': 6,\n",
       " '00010798': 2,\n",
       " '00011961': 1,\n",
       " '00012695': 2,\n",
       " '00012985': 105,\n",
       " '00013335': 1,\n",
       " '00013547': 2,\n",
       " '00013628': 6,\n",
       " '00013729': 1,\n",
       " '00013743': 1,\n",
       " '00013745': 1,\n",
       " '00013799': 1,\n",
       " '00013802': 2,\n",
       " '00014432': 1,\n",
       " '00014450': 1,\n",
       " '00014668': 2,\n",
       " '00014717': 3,\n",
       " '00014943': 4,\n",
       " '00014950': 1,\n",
       " '00019849': 4,\n",
       " '00020272': 4,\n",
       " '00021009': 7,\n",
       " '00022360': 2,\n",
       " '00026158': 2,\n",
       " '00028590': 1,\n",
       " '00029965': 2,\n",
       " '00030016': 10,\n",
       " '00031603': 1,\n",
       " '00034750': 5,\n",
       " '00035019': 19,\n",
       " '00035073': 6,\n",
       " '00037179': 1,\n",
       " '00037658': 1,\n",
       " '00038496': 1,\n",
       " '00038847': 1,\n",
       " '00039050': 4,\n",
       " '00039150': 1,\n",
       " '00039254': 3,\n",
       " '00039361': 2,\n",
       " '00039432': 1,\n",
       " '00041073': 2,\n",
       " '00041247': 1,\n",
       " '00050783': 5,\n",
       " '00051186': 2,\n",
       " '00051202': 5,\n",
       " '00051707': 1,\n",
       " '00052056': 1,\n",
       " '00052535': 1,\n",
       " '00052771': 6,\n",
       " '00052912': 1,\n",
       " '00053477': 5,\n",
       " '00053551': 3,\n",
       " '00053669': 1,\n",
       " '00053964': 4,\n",
       " '00053966': 14,\n",
       " '00055096': 4,\n",
       " '00055793': 6,\n",
       " '00056285': 1,\n",
       " '00056338': 2,\n",
       " '00059189': 1,\n",
       " '00060146': 1,\n",
       " '00060538': 1,\n",
       " '00060635': 4,\n",
       " '00060643': 1,\n",
       " '00060695': 4,\n",
       " '00060783': 3,\n",
       " '00061020': 3,\n",
       " '00061299': 1,\n",
       " '00063382': 1,\n",
       " '00064055': 12,\n",
       " '00064097': 3,\n",
       " '00065716': 3,\n",
       " '00065866': 5,\n",
       " '00066090': 1,\n",
       " '00066729': 27,\n",
       " '00066753': 1,\n",
       " '00066920': 4,\n",
       " '00066936': 1,\n",
       " '00067052': 1,\n",
       " '00067160': 1,\n",
       " '00067434': 4,\n",
       " '00067923': 3,\n",
       " '00068687': 17,\n",
       " '00068819': 2,\n",
       " '00068906': 1,\n",
       " '00068930': 7,\n",
       " '00069179': 1,\n",
       " 'TXL000182': 10,\n",
       " 'TXL000183': 1,\n",
       " 'TXL000186': 1,\n",
       " 'TXL000187': 3,\n",
       " 'TXL000188': 7,\n",
       " 'TXL000190': 2,\n",
       " 'TXL000191': 9,\n",
       " 'TXL000194': 10,\n",
       " 'TXL000197': 10,\n",
       " 'TXL000199': 14,\n",
       " 'TXL000201': 3,\n",
       " 'TXL000202': 1,\n",
       " 'TXL000203': 1,\n",
       " 'TXL000204': 1,\n",
       " 'TXL000206': 2,\n",
       " 'TXL000207': 1,\n",
       " 'TXL000209': 4,\n",
       " 'TXL000210': 1,\n",
       " 'TXL000211': 30,\n",
       " 'TXL000212': 20,\n",
       " 'TXL000214': 2,\n",
       " 'TXL000215': 1,\n",
       " 'TXL000216': 4,\n",
       " 'TXL000224': 7,\n",
       " 'TXL000227': 2,\n",
       " 'TXL000229': 5,\n",
       " 'TXL000230': 4,\n",
       " 'TXL000232': 6,\n",
       " 'TXL000233': 2,\n",
       " 'TXL000235': 2,\n",
       " 'TXL000236': 3,\n",
       " 'TXL000237': 1,\n",
       " 'TXL000241': 2,\n",
       " 'TXL000242': 19,\n",
       " 'TXL000243': 2,\n",
       " 'TXL000245': 2,\n",
       " 'TXL000247': 2,\n",
       " 'TXL000248': 1,\n",
       " 'TXL000249': 1,\n",
       " 'TXL000252': 16,\n",
       " 'TXL000253': 1,\n",
       " 'TXL000257': 1,\n",
       " 'TXL000259': 10,\n",
       " 'TXL000260': 2,\n",
       " 'TXL000265': 3,\n",
       " 'TXL000268': 2,\n",
       " 'TXL000270': 3,\n",
       " 'TXL000271': 2,\n",
       " 'TXL000272': 1,\n",
       " 'TXL000273': 7,\n",
       " 'TXL000279': 4,\n",
       " 'TXL000280': 2,\n",
       " 'TXL000282': 15,\n",
       " 'TXL000284': 3,\n",
       " 'TXL000285': 5,\n",
       " 'TXL000286': 1,\n",
       " 'TXL000287': 5,\n",
       " 'TXL000291': 12,\n",
       " 'TXL000293': 2,\n",
       " 'TXL000294': 2,\n",
       " 'TXL000295': 6,\n",
       " 'TXL000296': 2,\n",
       " 'TXL000298': 4,\n",
       " 'TXL000299': 8,\n",
       " 'TXL000300': 3,\n",
       " 'TXL000302': 3,\n",
       " 'TXL000303': 8,\n",
       " 'TXL000304': 1,\n",
       " 'TXL000308': 1,\n",
       " 'TXL000309': 2,\n",
       " 'TXL000310': 1,\n",
       " 'TXL000312': 7,\n",
       " 'TXL000315': 9,\n",
       " 'TXL000316': 1,\n",
       " 'TXL000320': 1,\n",
       " 'TXL000323': 1,\n",
       " 'TXL000324': 19,\n",
       " 'TXL000325': 1,\n",
       " 'TXL000327': 2,\n",
       " 'TXL000329': 7,\n",
       " 'TXL000330': 17,\n",
       " 'TXL000331': 9,\n",
       " 'TXL000336': 1,\n",
       " 'TXL000337': 6,\n",
       " 'TXL000338': 1,\n",
       " 'TXL000341': 2,\n",
       " 'TXL000342': 15,\n",
       " 'TXL000345': 6,\n",
       " 'TXL000349': 18,\n",
       " 'TXL000352': 2,\n",
       " 'TXL000353': 2,\n",
       " 'TXL000354': 1,\n",
       " 'TXL000357': 1,\n",
       " 'TXL000361': 2,\n",
       " 'TXL000363': 5,\n",
       " 'TXL000379': 3,\n",
       " 'TXL000381': 3,\n",
       " 'TXL000382': 4,\n",
       " 'TXL000383': 1,\n",
       " 'TXL000387': 16,\n",
       " 'TXL000389': 5,\n",
       " 'TXL000390': 1,\n",
       " 'TXL000395': 1,\n",
       " 'TXL000397': 4,\n",
       " 'TXL000400': 4,\n",
       " 'TXL000407': 5,\n",
       " 'TXL000410': 1,\n",
       " 'TXL000412': 1,\n",
       " 'TXL000424': 2,\n",
       " 'TXL000425': 1,\n",
       " 'TXL000430': 4,\n",
       " 'TXL000433': 1,\n",
       " 'TXL000436': 1,\n",
       " 'TXL000437': 1,\n",
       " 'TXL000441': 1,\n",
       " 'TXL000442': 1,\n",
       " 'TXL000443': 1,\n",
       " 'TXL000445': 1,\n",
       " 'TXL000446': 2,\n",
       " 'TXL000454': 1,\n",
       " 'TXL000456': 2,\n",
       " 'TXL000460': 1,\n",
       " 'TXL000463': 1,\n",
       " 'TXL000470': 1,\n",
       " 'TXL000480': 1,\n",
       " 'TXL000481': 1,\n",
       " 'TXL000490': 1}"
      ]
     },
     "execution_count": 7,
     "metadata": {},
     "output_type": "execute_result"
    }
   ],
   "source": [
    "nx.degree(G)"
   ]
  },
  {
   "cell_type": "code",
   "execution_count": 8,
   "metadata": {},
   "outputs": [
    {
     "name": "stdout",
     "output_type": "stream",
     "text": [
      "{'TXL000463', '00041073', 'TXL000209', 'TXL000243', 'TXL000197', 'TXL000182', '00014943', 'TXL000227', '00014717', '00013802', 'TXL000253', 'TXL000252', 'TXL000481', '00013799', '00010066', 'TXL000337', '00014668', 'TXL000383', 'TXL000282', '00039432', '00013745', 'TXL000424', '00037179', 'TXL000295', '00060783', 'TXL000345', '00041247', 'TXL000211', 'TXL000214', 'TXL000410', 'TXL000279', 'TXL000436', 'TXL000245', '00035073', '00068906', '00014950', 'TXL000199', 'TXL000242', '00021009', 'TXL000191', 'TXL000299', '00031603', '00014450', '00051202', '00039361', '00053551', 'TXL000361', '00052056', 'TXL000304', 'TXL000430', '00010205', 'TXL000298', 'TXL000296', '00067052', 'TXL000433', '00038847', 'TXL000241', '00052771', '00053964', '00061299', 'TXL000249', '00012695', 'TXL000280', '00055096', 'TXL000271', 'TXL000316', '00053477', '00030016', 'TXL000320', '00050783', 'TXL000210', 'TXL000470', '00010798', '00067923', 'TXL000194', 'TXL000212', 'TXL000389', 'TXL000324', 'TXL000379', 'TXL000327', 'TXL000331', '00013547', 'TXL000270', '00039050', 'TXL000442', 'TXL000259', 'TXL000437', 'TXL000229', '00067160', '00052535', 'TXL000294', '00019849', '00066936', 'TXL000445', '00029965', '00064097', 'TXL000397', 'TXL000293', 'TXL000400', 'TXL000341', '00055793', '00056285', 'TXL000381', 'TXL000456', 'TXL000236', 'TXL000446', '00010038', 'TXL000285', '00061020', 'TXL000260', 'TXL000187', '00069179', 'TXL000325', 'TXL000441', 'TXL000232', '00060635', 'TXL000460', '00068819', 'TXL000302', '00060146', '00060538', '00066753', 'TXL000354', 'TXL000454', 'TXL000216', 'TXL000353', 'TXL000224', '00065716', '00066729', 'TXL000207', 'TXL000247', 'TXL000349', '00020272', '00064055', 'TXL000480', 'TXL000308', 'TXL000202', 'TXL000203', 'TXL000284', 'TXL000309', 'TXL000412', '00034750', '00060695', 'TXL000312', 'TXL000390', 'TXL000201', 'TXL000273', 'TXL000257', 'TXL000268', 'TXL000336', 'TXL000233', 'TXL000407', '00013628', 'TXL000303', 'TXL000310', 'TXL000329', 'TXL000363', 'TXL000287', 'TXL000300', 'TXL000490', '00012985', '00053669', '00039150', '00010273', '00053966', 'TXL000235', 'TXL000315', '00039254', 'TXL000291', 'TXL000387', '00051186', 'TXL000357', '00065866', 'TXL000342', 'TXL000248', 'TXL000443', '00068930', 'TXL000188', '00035019'}\n",
      "{'TXL000323', '00056338', 'TXL000237'}\n",
      "{'00026158', 'TXL000352'}\n",
      "{'00066090', 'TXL000338'}\n",
      "{'TXL000206', '00011961', '00052912'}\n",
      "{'00013743', '00051707', 'TXL000265', '00013729'}\n",
      "{'TXL000215', '00038496'}\n",
      "{'TXL000395', '00037658'}\n",
      "{'TXL000204', 'TXL000190', '00013335', '00022360'}\n",
      "{'00066920', 'TXL000230'}\n",
      "{'TXL000382', '00067434'}\n",
      "{'00063382', 'TXL000425'}\n",
      "{'TXL000183', '00059189'}\n",
      "{'TXL000286', '00060643'}\n",
      "{'00068687', 'TXL000330'}\n",
      "{'00014432', 'TXL000186'}\n",
      "{'00028590', 'TXL000272'}\n"
     ]
    }
   ],
   "source": [
    "H = nx.Graph(G)\n",
    "answer = nx.connected_components(H)\n",
    "for i in answer:\n",
    "    print(i)"
   ]
  },
  {
   "cell_type": "code",
   "execution_count": 9,
   "metadata": {},
   "outputs": [],
   "source": [
    "# This is the output. The lines after this are just experiments.\n",
    "\n",
    "nx.readwrite.write_gexf(G,\"lobby.gexf\")"
   ]
  },
  {
   "cell_type": "code",
   "execution_count": null,
   "metadata": {},
   "outputs": [],
   "source": [
    "# I tried making this CSV to output for graphing. But this isn't that useful because it puts all the \n",
    "# data on the edges, none on the nodes, so I didn't end up using it for anything.\n",
    "\n",
    "outputFile = open('StateLobbyistTravel.csv', 'w', newline='')\n",
    "outputWriter = csv.writer(outputFile)\n",
    "outputWriter.writerow(['Record', 'Year', 'Source', 'LobbyName', 'Target','LegName','Party'])\n",
    "for row in travelFound:\n",
    "    outputWriter.writerow([row[0],row[1],row[2],row[3],row[9],row[-1],row[10]])\n",
    "outputFile.close()"
   ]
  },
  {
   "cell_type": "code",
   "execution_count": 10,
   "metadata": {},
   "outputs": [
    {
     "data": {
      "text/plain": [
       "215"
      ]
     },
     "execution_count": 10,
     "metadata": {},
     "output_type": "execute_result"
    }
   ],
   "source": [
    "# Testing to see how many records there are where the legislator's party is unknown because OpenStates doesn't provide\n",
    "# that info after they leave office.\n",
    "\n",
    "noParty = []\n",
    "\n",
    "for record in travel:\n",
    "    if len(record) > 9:\n",
    "        if record[10] == '':\n",
    "            noParty.append(record)\n",
    "        \n",
    "len(noParty)"
   ]
  },
  {
   "cell_type": "code",
   "execution_count": null,
   "metadata": {},
   "outputs": [],
   "source": [
    "# Here's where I tried using Neo4Jj\n",
    "\n",
    "from py2neo import Graph\n",
    "\n",
    "graph = Graph()\n",
    "graph.delete_all()"
   ]
  },
  {
   "cell_type": "code",
   "execution_count": null,
   "metadata": {},
   "outputs": [],
   "source": [
    "# This works to add nodes into a Neo4j database, but not relationships. Don't know why.\n",
    "\n",
    "from py2neo import Node, Relationship\n",
    "\n",
    "for record in travelFound:\n",
    "    itemname = record[5] + ' ' + record[6]\n",
    "    a = graph.merge(Node(\"Lobbyist\", id=record[2], name=record[3]))\n",
    "    b = graph.merge(Node(\"Legislator\", id=record[9], name=itemname, party=record[10]))\n",
    "    # Two attempted solutions below. neither of them is working.\n",
    "    ab = graph.create(Path(a, \"Travel\", b))\n",
    "    # graph.create(Relationship(a, b))"
   ]
  }
 ],
 "metadata": {
  "kernelspec": {
   "display_name": "Python 3",
   "language": "python",
   "name": "python3"
  },
  "language_info": {
   "codemirror_mode": {
    "name": "ipython",
    "version": 3
   },
   "file_extension": ".py",
   "mimetype": "text/x-python",
   "name": "python",
   "nbconvert_exporter": "python",
   "pygments_lexer": "ipython3",
   "version": "3.6.1"
  }
 },
 "nbformat": 4,
 "nbformat_minor": 1
}
