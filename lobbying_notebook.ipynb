{
 "cells": [
  {
   "cell_type": "code",
   "execution_count": 1,
   "metadata": {
    "collapsed": true
   },
   "outputs": [],
   "source": [
    "import pandas as pd\n",
    "import numpy as np\n"
   ]
  },
  {
   "cell_type": "code",
   "execution_count": 26,
   "metadata": {
    "collapsed": true
   },
   "outputs": [],
   "source": [
    "from difflib import SequenceMatcher\n",
    "\n",
    "def similar(a, b):\n",
    "    return SequenceMatcher(None, a, b).ratio()"
   ]
  },
  {
   "cell_type": "code",
   "execution_count": 75,
   "metadata": {
    "collapsed": false
   },
   "outputs": [],
   "source": [
    "\n",
    "def map_industries(orig_industries):\n",
    "    # want to return n x 2 array of original industries and their matches\n",
    "    #np.array([[1, 2, 3], [4, 5, 6]], np.int32)\n",
    "    industries = [\"\"] * len(orig_industries)\n",
    "    sim_threshhold = .6\n",
    "\n",
    "    for raw_industry in orig_industries:\n",
    "        #print(raw_industry)\n",
    "        if len(industries) == 0:\n",
    "            industries.append(raw_industry)\n",
    "        \n",
    "        else:\n",
    "            \n",
    "            max_sim = 0\n",
    "            idx_of_match = -1\n",
    "            \n",
    "            for idx, industry in enumerate(industries):\n",
    "                sim_rank = similar(raw_industry, industry)\n",
    "\n",
    "                if sim_rank > max_sim:\n",
    "                    max_sim = sim_rank\n",
    "                    idx_of_match = idx\n",
    "                        \n",
    "            if max_sim < sim_threshhold:\n",
    "                industries[idx] = raw_industry\n",
    "            else:\n",
    "                industries[idx] = industries[idx_of_match]\n",
    "\n",
    "    return np.array(industry_series,industries)"
   ]
  },
  {
   "cell_type": "code",
   "execution_count": 76,
   "metadata": {
    "collapsed": false
   },
   "outputs": [
    {
     "ename": "TypeError",
     "evalue": "data type not understood",
     "output_type": "error",
     "traceback": [
      "\u001b[1;31m---------------------------------------------------------------------------\u001b[0m",
      "\u001b[1;31mTypeError\u001b[0m                                 Traceback (most recent call last)",
      "\u001b[1;32m<ipython-input-76-d1959e56729f>\u001b[0m in \u001b[0;36m<module>\u001b[1;34m()\u001b[0m\n\u001b[0;32m      2\u001b[0m \u001b[1;33m\u001b[0m\u001b[0m\n\u001b[0;32m      3\u001b[0m \u001b[1;33m\u001b[0m\u001b[0m\n\u001b[1;32m----> 4\u001b[1;33m \u001b[0mindustry_map\u001b[0m \u001b[1;33m=\u001b[0m \u001b[0mmap_industries\u001b[0m\u001b[1;33m(\u001b[0m\u001b[0marray_of_industries\u001b[0m\u001b[1;33m)\u001b[0m\u001b[1;33m\u001b[0m\u001b[0m\n\u001b[0m",
      "\u001b[1;32m<ipython-input-75-4e5488d7c734>\u001b[0m in \u001b[0;36mmap_industries\u001b[1;34m(industry_series)\u001b[0m\n\u001b[0;32m     28\u001b[0m                 \u001b[0mindustries\u001b[0m\u001b[1;33m[\u001b[0m\u001b[0midx\u001b[0m\u001b[1;33m]\u001b[0m \u001b[1;33m=\u001b[0m \u001b[0mindustries\u001b[0m\u001b[1;33m[\u001b[0m\u001b[0midx_of_match\u001b[0m\u001b[1;33m]\u001b[0m\u001b[1;33m\u001b[0m\u001b[0m\n\u001b[0;32m     29\u001b[0m \u001b[1;33m\u001b[0m\u001b[0m\n\u001b[1;32m---> 30\u001b[1;33m     \u001b[1;32mreturn\u001b[0m \u001b[0mnp\u001b[0m\u001b[1;33m.\u001b[0m\u001b[0marray\u001b[0m\u001b[1;33m(\u001b[0m\u001b[0mindustry_series\u001b[0m\u001b[1;33m,\u001b[0m\u001b[0mindustries\u001b[0m\u001b[1;33m)\u001b[0m\u001b[1;33m\u001b[0m\u001b[0m\n\u001b[0m",
      "\u001b[1;31mTypeError\u001b[0m: data type not understood"
     ]
    }
   ],
   "source": [
    "array_of_industries = lobby_data['Industry'].apply(lambda x: str(x)).unique()\n",
    "\n",
    "\n",
    "industry_map = map_industries(array_of_industries)"
   ]
  },
  {
   "cell_type": "code",
   "execution_count": 5,
   "metadata": {
    "collapsed": false
   },
   "outputs": [],
   "source": [
    "lobby_data = pd.read_csv('./data/lobbyistFromCity.csv')"
   ]
  },
  {
   "cell_type": "code",
   "execution_count": 10,
   "metadata": {
    "collapsed": false
   },
   "outputs": [],
   "source": [
    "lob_cli = lobby_data.groupby(['Lobbyist','Client'])"
   ]
  },
  {
   "cell_type": "code",
   "execution_count": 51,
   "metadata": {
    "collapsed": false
   },
   "outputs": [],
   "source": [
    "lob_ind = lobby_data.groupby(['Lobbyist','Industry'])"
   ]
  },
  {
   "cell_type": "code",
   "execution_count": 57,
   "metadata": {
    "collapsed": false
   },
   "outputs": [
    {
     "data": {
      "text/plain": [
       "322"
      ]
     },
     "execution_count": 57,
     "metadata": {},
     "output_type": "execute_result"
    }
   ],
   "source": [
    "len(array_of_industries)"
   ]
  },
  {
   "cell_type": "code",
   "execution_count": 23,
   "metadata": {
    "collapsed": false
   },
   "outputs": [
    {
     "data": {
      "text/html": [
       "<div>\n",
       "<table border=\"1\" class=\"dataframe\">\n",
       "  <thead>\n",
       "    <tr style=\"text-align: right;\">\n",
       "      <th></th>\n",
       "      <th>Start</th>\n",
       "      <th>End</th>\n",
       "      <th>Lobbyist</th>\n",
       "      <th>Client</th>\n",
       "      <th>Industry</th>\n",
       "    </tr>\n",
       "  </thead>\n",
       "  <tbody>\n",
       "    <tr>\n",
       "      <th>0</th>\n",
       "      <td>2013-12-20</td>\n",
       "      <td>2014-12-20</td>\n",
       "      <td>Richard Suttle</td>\n",
       "      <td>Forestar (USA) Real Estate Group</td>\n",
       "      <td>Land Development &amp; Sales</td>\n",
       "    </tr>\n",
       "    <tr>\n",
       "      <th>1</th>\n",
       "      <td>2013-12-20</td>\n",
       "      <td>2014-12-20</td>\n",
       "      <td>Richard Suttle</td>\n",
       "      <td>Tierra Concepts</td>\n",
       "      <td>Real Estate Investment/Development</td>\n",
       "    </tr>\n",
       "    <tr>\n",
       "      <th>2</th>\n",
       "      <td>2013-12-20</td>\n",
       "      <td>2014-12-20</td>\n",
       "      <td>Richard Suttle</td>\n",
       "      <td>Majestic Realty</td>\n",
       "      <td>Real Estate Investment</td>\n",
       "    </tr>\n",
       "    <tr>\n",
       "      <th>3</th>\n",
       "      <td>2013-12-20</td>\n",
       "      <td>2014-12-20</td>\n",
       "      <td>Richard Suttle</td>\n",
       "      <td>Cullen, John</td>\n",
       "      <td>Real Estate Investment</td>\n",
       "    </tr>\n",
       "    <tr>\n",
       "      <th>4</th>\n",
       "      <td>2013-12-20</td>\n",
       "      <td>2014-12-20</td>\n",
       "      <td>Richard Suttle</td>\n",
       "      <td>The NRP Group, LLC</td>\n",
       "      <td>Real Estate Investment</td>\n",
       "    </tr>\n",
       "    <tr>\n",
       "      <th>5</th>\n",
       "      <td>2013-12-20</td>\n",
       "      <td>2014-12-20</td>\n",
       "      <td>Richard Suttle</td>\n",
       "      <td>The Charter School Fund</td>\n",
       "      <td>Public School</td>\n",
       "    </tr>\n",
       "    <tr>\n",
       "      <th>6</th>\n",
       "      <td>2013-12-20</td>\n",
       "      <td>2014-12-20</td>\n",
       "      <td>Richard Suttle</td>\n",
       "      <td>Rice, Robert</td>\n",
       "      <td>Real Estate Investment</td>\n",
       "    </tr>\n",
       "    <tr>\n",
       "      <th>7</th>\n",
       "      <td>2013-12-20</td>\n",
       "      <td>2014-12-20</td>\n",
       "      <td>Richard Suttle</td>\n",
       "      <td>Wilkerson, Eric</td>\n",
       "      <td>Real Estate Investment</td>\n",
       "    </tr>\n",
       "    <tr>\n",
       "      <th>8</th>\n",
       "      <td>2013-12-20</td>\n",
       "      <td>2014-12-20</td>\n",
       "      <td>Richard Suttle</td>\n",
       "      <td>Riddell Family Limited Partnership</td>\n",
       "      <td>Real Estate Investment</td>\n",
       "    </tr>\n",
       "    <tr>\n",
       "      <th>9</th>\n",
       "      <td>2013-12-20</td>\n",
       "      <td>2014-12-20</td>\n",
       "      <td>Richard Suttle</td>\n",
       "      <td>Autoreturn</td>\n",
       "      <td>Real Estate Investment</td>\n",
       "    </tr>\n",
       "    <tr>\n",
       "      <th>10</th>\n",
       "      <td>2013-12-20</td>\n",
       "      <td>2014-12-20</td>\n",
       "      <td>Richard Suttle</td>\n",
       "      <td>Goodstone LLC</td>\n",
       "      <td>Real Estate Investment</td>\n",
       "    </tr>\n",
       "    <tr>\n",
       "      <th>11</th>\n",
       "      <td>2013-12-20</td>\n",
       "      <td>2014-12-20</td>\n",
       "      <td>Richard Suttle</td>\n",
       "      <td>Safeway, Inc.</td>\n",
       "      <td>Real Estate Investment</td>\n",
       "    </tr>\n",
       "    <tr>\n",
       "      <th>12</th>\n",
       "      <td>2013-12-20</td>\n",
       "      <td>2014-12-20</td>\n",
       "      <td>Richard Suttle</td>\n",
       "      <td>Hughes Capital Management</td>\n",
       "      <td>Real Estate Development</td>\n",
       "    </tr>\n",
       "    <tr>\n",
       "      <th>13</th>\n",
       "      <td>2013-12-20</td>\n",
       "      <td>2014-12-20</td>\n",
       "      <td>Richard Suttle</td>\n",
       "      <td>Orangestone Bluegrass, LLC</td>\n",
       "      <td>Real Estate Investment</td>\n",
       "    </tr>\n",
       "    <tr>\n",
       "      <th>14</th>\n",
       "      <td>2013-12-20</td>\n",
       "      <td>2014-12-20</td>\n",
       "      <td>Richard Suttle</td>\n",
       "      <td>Austin Board of Realtors</td>\n",
       "      <td>Real Estate</td>\n",
       "    </tr>\n",
       "    <tr>\n",
       "      <th>15</th>\n",
       "      <td>2013-12-20</td>\n",
       "      <td>2014-12-20</td>\n",
       "      <td>Richard Suttle</td>\n",
       "      <td>Shapiro, Bobby and Jim</td>\n",
       "      <td>Real Estate Investment</td>\n",
       "    </tr>\n",
       "    <tr>\n",
       "      <th>16</th>\n",
       "      <td>2013-12-20</td>\n",
       "      <td>2014-12-20</td>\n",
       "      <td>Richard Suttle</td>\n",
       "      <td>McCullough, Todd</td>\n",
       "      <td>Real Estate Investment</td>\n",
       "    </tr>\n",
       "    <tr>\n",
       "      <th>17</th>\n",
       "      <td>2013-12-20</td>\n",
       "      <td>2014-12-20</td>\n",
       "      <td>Richard Suttle</td>\n",
       "      <td>HPI Real Estate &amp; Services Investment</td>\n",
       "      <td>Real Estate Investment</td>\n",
       "    </tr>\n",
       "    <tr>\n",
       "      <th>18</th>\n",
       "      <td>2013-12-20</td>\n",
       "      <td>2014-12-20</td>\n",
       "      <td>Richard Suttle</td>\n",
       "      <td>TR Vista Preserve</td>\n",
       "      <td>Real Estate Investment</td>\n",
       "    </tr>\n",
       "    <tr>\n",
       "      <th>19</th>\n",
       "      <td>2013-12-20</td>\n",
       "      <td>2014-12-20</td>\n",
       "      <td>Richard Suttle</td>\n",
       "      <td>Magellan Development Group, LLC</td>\n",
       "      <td>Real Estate Investment</td>\n",
       "    </tr>\n",
       "  </tbody>\n",
       "</table>\n",
       "</div>"
      ],
      "text/plain": [
       "         Start         End        Lobbyist  \\\n",
       "0   2013-12-20  2014-12-20  Richard Suttle   \n",
       "1   2013-12-20  2014-12-20  Richard Suttle   \n",
       "2   2013-12-20  2014-12-20  Richard Suttle   \n",
       "3   2013-12-20  2014-12-20  Richard Suttle   \n",
       "4   2013-12-20  2014-12-20  Richard Suttle   \n",
       "5   2013-12-20  2014-12-20  Richard Suttle   \n",
       "6   2013-12-20  2014-12-20  Richard Suttle   \n",
       "7   2013-12-20  2014-12-20  Richard Suttle   \n",
       "8   2013-12-20  2014-12-20  Richard Suttle   \n",
       "9   2013-12-20  2014-12-20  Richard Suttle   \n",
       "10  2013-12-20  2014-12-20  Richard Suttle   \n",
       "11  2013-12-20  2014-12-20  Richard Suttle   \n",
       "12  2013-12-20  2014-12-20  Richard Suttle   \n",
       "13  2013-12-20  2014-12-20  Richard Suttle   \n",
       "14  2013-12-20  2014-12-20  Richard Suttle   \n",
       "15  2013-12-20  2014-12-20  Richard Suttle   \n",
       "16  2013-12-20  2014-12-20  Richard Suttle   \n",
       "17  2013-12-20  2014-12-20  Richard Suttle   \n",
       "18  2013-12-20  2014-12-20  Richard Suttle   \n",
       "19  2013-12-20  2014-12-20  Richard Suttle   \n",
       "\n",
       "                                   Client                            Industry  \n",
       "0       Forestar (USA) Real Estate Group             Land Development & Sales  \n",
       "1                         Tierra Concepts  Real Estate Investment/Development  \n",
       "2                         Majestic Realty              Real Estate Investment  \n",
       "3                            Cullen, John              Real Estate Investment  \n",
       "4                      The NRP Group, LLC              Real Estate Investment  \n",
       "5                 The Charter School Fund                       Public School  \n",
       "6                            Rice, Robert              Real Estate Investment  \n",
       "7                         Wilkerson, Eric              Real Estate Investment  \n",
       "8      Riddell Family Limited Partnership              Real Estate Investment  \n",
       "9                              Autoreturn              Real Estate Investment  \n",
       "10                          Goodstone LLC              Real Estate Investment  \n",
       "11                          Safeway, Inc.              Real Estate Investment  \n",
       "12              Hughes Capital Management             Real Estate Development  \n",
       "13             Orangestone Bluegrass, LLC              Real Estate Investment  \n",
       "14               Austin Board of Realtors                         Real Estate  \n",
       "15                 Shapiro, Bobby and Jim              Real Estate Investment  \n",
       "16                       McCullough, Todd              Real Estate Investment  \n",
       "17  HPI Real Estate & Services Investment              Real Estate Investment  \n",
       "18                      TR Vista Preserve              Real Estate Investment  \n",
       "19        Magellan Development Group, LLC              Real Estate Investment  "
      ]
     },
     "execution_count": 23,
     "metadata": {},
     "output_type": "execute_result"
    }
   ],
   "source": [
    "lobby_data.head(20)"
   ]
  },
  {
   "cell_type": "code",
   "execution_count": null,
   "metadata": {
    "collapsed": true
   },
   "outputs": [],
   "source": []
  }
 ],
 "metadata": {
  "kernelspec": {
   "display_name": "Python 3",
   "language": "python",
   "name": "python3"
  },
  "language_info": {
   "codemirror_mode": {
    "name": "ipython",
    "version": 3
   },
   "file_extension": ".py",
   "mimetype": "text/x-python",
   "name": "python",
   "nbconvert_exporter": "python",
   "pygments_lexer": "ipython3",
   "version": "3.4.3"
  }
 },
 "nbformat": 4,
 "nbformat_minor": 0
}
