{
 "cells": [
  {
   "cell_type": "code",
   "execution_count": 19,
   "metadata": {
    "collapsed": true
   },
   "outputs": [],
   "source": [
    "import pandas as pd\n",
    "import numpy as np\n",
    "import jellyfish\n",
    "import re\n",
    "from nltk.corpus import stopwords"
   ]
  },
  {
   "cell_type": "code",
   "execution_count": 2,
   "metadata": {
    "collapsed": true
   },
   "outputs": [],
   "source": [
    "from difflib import SequenceMatcher\n",
    "\n",
    "def similar(a, b):\n",
    "    return SequenceMatcher(None, a, b).ratio()"
   ]
  },
  {
   "cell_type": "code",
   "execution_count": 137,
   "metadata": {
    "collapsed": true
   },
   "outputs": [],
   "source": [
    "def cross_product_apply(iteratible, function, symmetric = True):\n",
    "    length = len(iteratible)\n",
    "    results_matrix = np.zeros((length,length))\n",
    "    \n",
    "    for i in range(0,length):\n",
    "\n",
    "        if symmetric == False:\n",
    "            j_length = length\n",
    "        else:\n",
    "            j_length = i\n",
    "            \n",
    "        for j in range(0,j_length):\n",
    "            results_matrix[i,j] = function(iteratible[i], iteratible[j])\n",
    "        \n",
    "    return results_matrix\n",
    "    \n",
    "    \n",
    "    "
   ]
  },
  {
   "cell_type": "code",
   "execution_count": 5,
   "metadata": {
    "collapsed": false
   },
   "outputs": [],
   "source": [
    "\n",
    "def category_matcher(original_categories):\n",
    "    # want to return n x 2 array of original industries and their matches\n",
    "    #np.array([[1, 2, 3], [4, 5, 6]], np.int32)\n",
    "    final_categories = [] #[\"\"] * len(original_categories)\n",
    "    sim_threshhold = .6\n",
    "    \n",
    "\n",
    "    for idx1, original_cat in enumerate(original_categories):\n",
    "\n",
    "        if len(final_categories) == 0:\n",
    "            '''\n",
    "            if it's the first in the list, then a better match can't be found,\n",
    "            and we keep the first title\n",
    "            '''\n",
    "            final_categories.append(original_cat)\n",
    "        \n",
    "        else:\n",
    "            '''\n",
    "            if it's not the first item, then we compare it to all existing items in the list,\n",
    "            looking for a match.\n",
    "            \n",
    "            if one matches over the threshhold, then we choose that\n",
    "            otherwise, we choose a new category\n",
    "            '''\n",
    "            \n",
    "            max_sim = 0\n",
    "            idx_of_max = -1\n",
    "            \n",
    "            for idx2, final_category in enumerate(final_categories):                \n",
    "                sim_rank = similar(original_cat, final_category)\n",
    "\n",
    "                if sim_rank > max_sim:\n",
    "                    max_sim = sim_rank\n",
    "                    idx_of_match = idx2\n",
    "                        \n",
    "            if max_sim < sim_threshhold:\n",
    "                final_categories.append(original_cat)\n",
    "                #final_categories[idx1] = original_cat\n",
    "            else:\n",
    "                final_categories.append(final_categories[idx_of_match])\n",
    "                #final_categories[idx1] = final_categories[idx_of_match]\n",
    "\n",
    "    return pd.DataFrame(original_categories,final_categories)"
   ]
  },
  {
   "cell_type": "code",
   "execution_count": 87,
   "metadata": {
    "collapsed": false
   },
   "outputs": [],
   "source": [
    "def split_industries(industries): \n",
    "    bad_words=list(set(stopwords.words('english'))) + ['']\n",
    "    splitted_industries = []\n",
    "    for thing in industries:\n",
    "        splitted = re.split(pattern='[/|,\\s?|&|(?<!-)\\s]', string=thing)\n",
    "        splitted = [word for word in splitted if word not in bad_words]\n",
    "        splitted_industries.append(splitted)\n",
    "        \n",
    "    return splitted_industries\n",
    "\n"
   ]
  },
  {
   "cell_type": "code",
   "execution_count": 108,
   "metadata": {
    "collapsed": false
   },
   "outputs": [],
   "source": [
    "def prop_in_common(iteratible1, iteratible2):\n",
    "    denominator = len(iteratible1)\n",
    "    common_count = 0\n",
    "    if denominator !=0:\n",
    "        numerator = len(np.intersect1d(iteratible1,iteratible2))\n",
    "        return 1.0*numerator/denominator\n",
    "    else:\n",
    "        return 0.0\n",
    "    "
   ]
  },
  {
   "cell_type": "code",
   "execution_count": 63,
   "metadata": {
    "collapsed": false
   },
   "outputs": [],
   "source": [
    "lobby_city = pd.read_csv('./data/lobbyistFromCity.csv', parse_dates=[0,1])"
   ]
  },
  {
   "cell_type": "code",
   "execution_count": 8,
   "metadata": {
    "collapsed": true
   },
   "outputs": [],
   "source": [
    "lobby_time = pd.read_csv('./data/lobbyistTimeRange.csv')"
   ]
  },
  {
   "cell_type": "code",
   "execution_count": 9,
   "metadata": {
    "collapsed": false
   },
   "outputs": [],
   "source": [
    "industries = lobby_city.Industry.fillna(\"\").unique()"
   ]
  },
  {
   "cell_type": "code",
   "execution_count": 89,
   "metadata": {
    "collapsed": false
   },
   "outputs": [],
   "source": [
    "industries_split = split_industries(industries)"
   ]
  },
  {
   "cell_type": "code",
   "execution_count": 138,
   "metadata": {
    "collapsed": false
   },
   "outputs": [],
   "source": [
    "industry_str_sim_matrix = cross_product_apply(industries, jellyfish.jaro_winkler)"
   ]
  },
  {
   "cell_type": "code",
   "execution_count": 141,
   "metadata": {
    "collapsed": false
   },
   "outputs": [],
   "source": [
    "industry_list_sim_matrix = cross_product_apply(industries_split, prop_in_common, symmetric=False)"
   ]
  },
  {
   "cell_type": "code",
   "execution_count": 184,
   "metadata": {
    "collapsed": false
   },
   "outputs": [
    {
     "name": "stdout",
     "output_type": "stream",
     "text": [
      "False\n"
     ]
    },
    {
     "ename": "ValueError",
     "evalue": "The truth value of an array with more than one element is ambiguous. Use a.any() or a.all()",
     "output_type": "error",
     "traceback": [
      "\u001b[0;31m---------------------------------------------------------------------------\u001b[0m",
      "\u001b[0;31mValueError\u001b[0m                                Traceback (most recent call last)",
      "\u001b[0;32m<ipython-input-184-e3a7dc0cd6e7>\u001b[0m in \u001b[0;36m<module>\u001b[0;34m()\u001b[0m\n\u001b[1;32m     34\u001b[0m \u001b[0;34m\u001b[0m\u001b[0m\n\u001b[1;32m     35\u001b[0m \u001b[0;31m#clusters =\u001b[0m\u001b[0;34m\u001b[0m\u001b[0;34m\u001b[0m\u001b[0m\n\u001b[0;32m---> 36\u001b[0;31m \u001b[0mcategorizer\u001b[0m\u001b[0;34m(\u001b[0m\u001b[0mindustry_list_sim_matrix\u001b[0m\u001b[0;34m)\u001b[0m\u001b[0;34m\u001b[0m\u001b[0m\n\u001b[0m",
      "\u001b[0;32m<ipython-input-184-e3a7dc0cd6e7>\u001b[0m in \u001b[0;36mcategorizer\u001b[0;34m(numpy_matrix, threshhold_value)\u001b[0m\n\u001b[1;32m     25\u001b[0m                 \u001b[0mcluster\u001b[0m \u001b[0;34m+=\u001b[0m \u001b[0;34m[\u001b[0m\u001b[0mindex\u001b[0m\u001b[0;34m]\u001b[0m\u001b[0;34m\u001b[0m\u001b[0m\n\u001b[1;32m     26\u001b[0m \u001b[0;34m\u001b[0m\u001b[0m\n\u001b[0;32m---> 27\u001b[0;31m         \u001b[0mprint\u001b[0m\u001b[0;34m(\u001b[0m\u001b[0mcluster\u001b[0m \u001b[0;32min\u001b[0m \u001b[0mcluster_candidates\u001b[0m\u001b[0;34m)\u001b[0m\u001b[0;34m\u001b[0m\u001b[0m\n\u001b[0m\u001b[1;32m     28\u001b[0m         \u001b[0mcluster_candidates\u001b[0m \u001b[0;34m+=\u001b[0m \u001b[0mset\u001b[0m\u001b[0;34m(\u001b[0m\u001b[0mcluster\u001b[0m\u001b[0;34m)\u001b[0m\u001b[0;34m\u001b[0m\u001b[0m\n\u001b[1;32m     29\u001b[0m         \u001b[0;31m#print(industries[cluster])\u001b[0m\u001b[0;34m\u001b[0m\u001b[0;34m\u001b[0m\u001b[0m\n",
      "\u001b[0;31mValueError\u001b[0m: The truth value of an array with more than one element is ambiguous. Use a.any() or a.all()"
     ]
    }
   ],
   "source": [
    "'''\n",
    "given an n*n matrix, find the number of categories k\n",
    "such that all n elements are in a category only \n",
    "with other elements that have a positive value in the corresponding field\n",
    "and return those categories\n",
    "'''\n",
    "\n",
    "def categorizer(numpy_matrix, threshhold_value = 0):\n",
    "    length = numpy_matrix.shape[0]\n",
    "    cluster_candidates = []\n",
    "    \n",
    "    for i in range(0,length):\n",
    "        \n",
    "        cluster = []\n",
    "        \n",
    "        first_vector = numpy_matrix[i,:]\n",
    "        match_index = first_vector.nonzero()[0]\n",
    "        \n",
    "        cluster += [i]\n",
    "        \n",
    "        for index in match_index:\n",
    "\n",
    "            match_value = numpy_matrix[i,index]\n",
    "            if match_value > threshhold_value:\n",
    "                cluster += [index]\n",
    "        \n",
    "        print(cluster in cluster_candidates)\n",
    "        cluster_candidates += set(cluster)\n",
    "        #print(industries[cluster])\n",
    "    \n",
    "    return(len(set(cluster_candidates)))\n",
    "    \n",
    "    \n",
    "    \n",
    "#clusters = \n",
    "categorizer(industry_list_sim_matrix)"
   ]
  },
  {
   "cell_type": "code",
   "execution_count": 179,
   "metadata": {
    "collapsed": false
   },
   "outputs": [
    {
     "data": {
      "text/plain": [
       "322"
      ]
     },
     "execution_count": 179,
     "metadata": {},
     "output_type": "execute_result"
    }
   ],
   "source": [
    "'''\n",
    "Given these candidates, what will happen if we choose to minimize the number of single-element groups\n",
    "'''\n",
    "def choose_best_clusters(clusters):\n",
    "    elements = set([x for x in clusters])\n",
    "\n",
    "    \n",
    "\n",
    "\n",
    "choose_best_clusters(clusters)"
   ]
  },
  {
   "cell_type": "code",
   "execution_count": 145,
   "metadata": {
    "collapsed": false
   },
   "outputs": [
    {
     "name": "stdout",
     "output_type": "stream",
     "text": [
      "Land Development & Sales : []\n",
      "Real Estate Investment/Development : []\n",
      "Real Estate Investment : ['Real Estate Investment/Development']\n",
      "Public School : []\n",
      "Real Estate Development : ['Real Estate Investment/Development' 'Real Estate Investment']\n",
      "Real Estate : ['Real Estate Investment/Development' 'Real Estate Investment'\n",
      " 'Real Estate Development']\n",
      "Religious Assembly/Education : []\n",
      "Restaurant Association : []\n",
      "Real Estate Investment/ Development : ['Real Estate Investment/Development' 'Real Estate Investment'\n",
      " 'Real Estate Development' 'Real Estate']\n",
      "Sports and Special Events Productions : []\n",
      "Education : []\n",
      "Hotel : []\n",
      "Religious Assembly : ['Religious Assembly/Education']\n",
      "Private Property Owner : []\n",
      "Municipal Utility District : []\n",
      "Ranching : []\n",
      "School : []\n",
      "Restaurant : ['Real Estate' 'Restaurant Association']\n",
      "University : []\n",
      "Provides internet related products and services : []\n",
      "Real Estate/Investment : ['Real Estate Investment/Development' 'Real Estate Investment'\n",
      " 'Real Estate Development' 'Real Estate'\n",
      " 'Real Estate Investment/ Development']\n",
      "Real Estate Developement : ['Real Estate Investment/Development' 'Real Estate Investment'\n",
      " 'Real Estate Development' 'Real Estate'\n",
      " 'Real Estate Investment/ Development' 'Real Estate/Investment']\n",
      "Property Management : []\n",
      "Land Development : ['Land Development & Sales']\n",
      "Private Property Owner/Real Estate Investment/Development : ['Private Property Owner']\n",
      "Restaurant/Bar : ['Restaurant Association' 'Restaurant']\n",
      "Limited District : []\n",
      "Real Estate Investment/Development (Canada M5J2TE Address) : ['Real Estate Investment/Development' 'Real Estate Investment'\n",
      " 'Real Estate Development' 'Real Estate'\n",
      " 'Real Estate Investment/ Development' 'Real Estate/Investment'\n",
      " 'Real Estate Developement']\n",
      "Property Owner/Developer : ['Property Management']\n",
      "Developer : ['Land Development']\n"
     ]
    }
   ],
   "source": [
    "for i in range(0,30):\n",
    "    vector = industry_str_sim_matrix[i,:]\n",
    "\n",
    "    print(industries[i] + \" : \" + str(industries[(vector > .75).nonzero()]))"
   ]
  },
  {
   "cell_type": "markdown",
   "metadata": {},
   "source": [
    "# We now have two representations of similarity between elements\n",
    "\n",
    "# The next step is to cluster by those similarities "
   ]
  },
  {
   "cell_type": "code",
   "execution_count": 8,
   "metadata": {
    "collapsed": false
   },
   "outputs": [
    {
     "ename": "NameError",
     "evalue": "name 'lobby_city' is not defined",
     "output_type": "error",
     "traceback": [
      "\u001b[0;31m---------------------------------------------------------------------------\u001b[0m",
      "\u001b[0;31mNameError\u001b[0m                                 Traceback (most recent call last)",
      "\u001b[0;32m<ipython-input-8-ceef6011ee58>\u001b[0m in \u001b[0;36m<module>\u001b[0;34m()\u001b[0m\n\u001b[0;32m----> 1\u001b[0;31m \u001b[0mlob_cli\u001b[0m \u001b[0;34m=\u001b[0m \u001b[0mlobby_city\u001b[0m\u001b[0;34m.\u001b[0m\u001b[0mgroupby\u001b[0m\u001b[0;34m(\u001b[0m\u001b[0;34m[\u001b[0m\u001b[0;34m'Lobbyist'\u001b[0m\u001b[0;34m,\u001b[0m\u001b[0;34m'Client'\u001b[0m\u001b[0;34m]\u001b[0m\u001b[0;34m)\u001b[0m\u001b[0;34m\u001b[0m\u001b[0m\n\u001b[0m",
      "\u001b[0;31mNameError\u001b[0m: name 'lobby_city' is not defined"
     ]
    }
   ],
   "source": [
    "lob_cli = lobby_city.groupby(['Lobbyist','Client'])"
   ]
  },
  {
   "cell_type": "code",
   "execution_count": 51,
   "metadata": {
    "collapsed": false
   },
   "outputs": [],
   "source": [
    "lob_ind = lobby_city.groupby(['Lobbyist','Industry'])"
   ]
  },
  {
   "cell_type": "code",
   "execution_count": 57,
   "metadata": {
    "collapsed": false
   },
   "outputs": [
    {
     "data": {
      "text/plain": [
       "322"
      ]
     },
     "execution_count": 57,
     "metadata": {},
     "output_type": "execute_result"
    }
   ],
   "source": [
    "len(array_of_industries)"
   ]
  },
  {
   "cell_type": "code",
   "execution_count": 23,
   "metadata": {
    "collapsed": false
   },
   "outputs": [
    {
     "data": {
      "text/html": [
       "<div>\n",
       "<table border=\"1\" class=\"dataframe\">\n",
       "  <thead>\n",
       "    <tr style=\"text-align: right;\">\n",
       "      <th></th>\n",
       "      <th>Start</th>\n",
       "      <th>End</th>\n",
       "      <th>Lobbyist</th>\n",
       "      <th>Client</th>\n",
       "      <th>Industry</th>\n",
       "    </tr>\n",
       "  </thead>\n",
       "  <tbody>\n",
       "    <tr>\n",
       "      <th>0</th>\n",
       "      <td>2013-12-20</td>\n",
       "      <td>2014-12-20</td>\n",
       "      <td>Richard Suttle</td>\n",
       "      <td>Forestar (USA) Real Estate Group</td>\n",
       "      <td>Land Development &amp; Sales</td>\n",
       "    </tr>\n",
       "    <tr>\n",
       "      <th>1</th>\n",
       "      <td>2013-12-20</td>\n",
       "      <td>2014-12-20</td>\n",
       "      <td>Richard Suttle</td>\n",
       "      <td>Tierra Concepts</td>\n",
       "      <td>Real Estate Investment/Development</td>\n",
       "    </tr>\n",
       "    <tr>\n",
       "      <th>2</th>\n",
       "      <td>2013-12-20</td>\n",
       "      <td>2014-12-20</td>\n",
       "      <td>Richard Suttle</td>\n",
       "      <td>Majestic Realty</td>\n",
       "      <td>Real Estate Investment</td>\n",
       "    </tr>\n",
       "    <tr>\n",
       "      <th>3</th>\n",
       "      <td>2013-12-20</td>\n",
       "      <td>2014-12-20</td>\n",
       "      <td>Richard Suttle</td>\n",
       "      <td>Cullen, John</td>\n",
       "      <td>Real Estate Investment</td>\n",
       "    </tr>\n",
       "    <tr>\n",
       "      <th>4</th>\n",
       "      <td>2013-12-20</td>\n",
       "      <td>2014-12-20</td>\n",
       "      <td>Richard Suttle</td>\n",
       "      <td>The NRP Group, LLC</td>\n",
       "      <td>Real Estate Investment</td>\n",
       "    </tr>\n",
       "    <tr>\n",
       "      <th>5</th>\n",
       "      <td>2013-12-20</td>\n",
       "      <td>2014-12-20</td>\n",
       "      <td>Richard Suttle</td>\n",
       "      <td>The Charter School Fund</td>\n",
       "      <td>Public School</td>\n",
       "    </tr>\n",
       "    <tr>\n",
       "      <th>6</th>\n",
       "      <td>2013-12-20</td>\n",
       "      <td>2014-12-20</td>\n",
       "      <td>Richard Suttle</td>\n",
       "      <td>Rice, Robert</td>\n",
       "      <td>Real Estate Investment</td>\n",
       "    </tr>\n",
       "    <tr>\n",
       "      <th>7</th>\n",
       "      <td>2013-12-20</td>\n",
       "      <td>2014-12-20</td>\n",
       "      <td>Richard Suttle</td>\n",
       "      <td>Wilkerson, Eric</td>\n",
       "      <td>Real Estate Investment</td>\n",
       "    </tr>\n",
       "    <tr>\n",
       "      <th>8</th>\n",
       "      <td>2013-12-20</td>\n",
       "      <td>2014-12-20</td>\n",
       "      <td>Richard Suttle</td>\n",
       "      <td>Riddell Family Limited Partnership</td>\n",
       "      <td>Real Estate Investment</td>\n",
       "    </tr>\n",
       "    <tr>\n",
       "      <th>9</th>\n",
       "      <td>2013-12-20</td>\n",
       "      <td>2014-12-20</td>\n",
       "      <td>Richard Suttle</td>\n",
       "      <td>Autoreturn</td>\n",
       "      <td>Real Estate Investment</td>\n",
       "    </tr>\n",
       "    <tr>\n",
       "      <th>10</th>\n",
       "      <td>2013-12-20</td>\n",
       "      <td>2014-12-20</td>\n",
       "      <td>Richard Suttle</td>\n",
       "      <td>Goodstone LLC</td>\n",
       "      <td>Real Estate Investment</td>\n",
       "    </tr>\n",
       "    <tr>\n",
       "      <th>11</th>\n",
       "      <td>2013-12-20</td>\n",
       "      <td>2014-12-20</td>\n",
       "      <td>Richard Suttle</td>\n",
       "      <td>Safeway, Inc.</td>\n",
       "      <td>Real Estate Investment</td>\n",
       "    </tr>\n",
       "    <tr>\n",
       "      <th>12</th>\n",
       "      <td>2013-12-20</td>\n",
       "      <td>2014-12-20</td>\n",
       "      <td>Richard Suttle</td>\n",
       "      <td>Hughes Capital Management</td>\n",
       "      <td>Real Estate Development</td>\n",
       "    </tr>\n",
       "    <tr>\n",
       "      <th>13</th>\n",
       "      <td>2013-12-20</td>\n",
       "      <td>2014-12-20</td>\n",
       "      <td>Richard Suttle</td>\n",
       "      <td>Orangestone Bluegrass, LLC</td>\n",
       "      <td>Real Estate Investment</td>\n",
       "    </tr>\n",
       "    <tr>\n",
       "      <th>14</th>\n",
       "      <td>2013-12-20</td>\n",
       "      <td>2014-12-20</td>\n",
       "      <td>Richard Suttle</td>\n",
       "      <td>Austin Board of Realtors</td>\n",
       "      <td>Real Estate</td>\n",
       "    </tr>\n",
       "    <tr>\n",
       "      <th>15</th>\n",
       "      <td>2013-12-20</td>\n",
       "      <td>2014-12-20</td>\n",
       "      <td>Richard Suttle</td>\n",
       "      <td>Shapiro, Bobby and Jim</td>\n",
       "      <td>Real Estate Investment</td>\n",
       "    </tr>\n",
       "    <tr>\n",
       "      <th>16</th>\n",
       "      <td>2013-12-20</td>\n",
       "      <td>2014-12-20</td>\n",
       "      <td>Richard Suttle</td>\n",
       "      <td>McCullough, Todd</td>\n",
       "      <td>Real Estate Investment</td>\n",
       "    </tr>\n",
       "    <tr>\n",
       "      <th>17</th>\n",
       "      <td>2013-12-20</td>\n",
       "      <td>2014-12-20</td>\n",
       "      <td>Richard Suttle</td>\n",
       "      <td>HPI Real Estate &amp; Services Investment</td>\n",
       "      <td>Real Estate Investment</td>\n",
       "    </tr>\n",
       "    <tr>\n",
       "      <th>18</th>\n",
       "      <td>2013-12-20</td>\n",
       "      <td>2014-12-20</td>\n",
       "      <td>Richard Suttle</td>\n",
       "      <td>TR Vista Preserve</td>\n",
       "      <td>Real Estate Investment</td>\n",
       "    </tr>\n",
       "    <tr>\n",
       "      <th>19</th>\n",
       "      <td>2013-12-20</td>\n",
       "      <td>2014-12-20</td>\n",
       "      <td>Richard Suttle</td>\n",
       "      <td>Magellan Development Group, LLC</td>\n",
       "      <td>Real Estate Investment</td>\n",
       "    </tr>\n",
       "  </tbody>\n",
       "</table>\n",
       "</div>"
      ],
      "text/plain": [
       "         Start         End        Lobbyist  \\\n",
       "0   2013-12-20  2014-12-20  Richard Suttle   \n",
       "1   2013-12-20  2014-12-20  Richard Suttle   \n",
       "2   2013-12-20  2014-12-20  Richard Suttle   \n",
       "3   2013-12-20  2014-12-20  Richard Suttle   \n",
       "4   2013-12-20  2014-12-20  Richard Suttle   \n",
       "5   2013-12-20  2014-12-20  Richard Suttle   \n",
       "6   2013-12-20  2014-12-20  Richard Suttle   \n",
       "7   2013-12-20  2014-12-20  Richard Suttle   \n",
       "8   2013-12-20  2014-12-20  Richard Suttle   \n",
       "9   2013-12-20  2014-12-20  Richard Suttle   \n",
       "10  2013-12-20  2014-12-20  Richard Suttle   \n",
       "11  2013-12-20  2014-12-20  Richard Suttle   \n",
       "12  2013-12-20  2014-12-20  Richard Suttle   \n",
       "13  2013-12-20  2014-12-20  Richard Suttle   \n",
       "14  2013-12-20  2014-12-20  Richard Suttle   \n",
       "15  2013-12-20  2014-12-20  Richard Suttle   \n",
       "16  2013-12-20  2014-12-20  Richard Suttle   \n",
       "17  2013-12-20  2014-12-20  Richard Suttle   \n",
       "18  2013-12-20  2014-12-20  Richard Suttle   \n",
       "19  2013-12-20  2014-12-20  Richard Suttle   \n",
       "\n",
       "                                   Client                            Industry  \n",
       "0       Forestar (USA) Real Estate Group             Land Development & Sales  \n",
       "1                         Tierra Concepts  Real Estate Investment/Development  \n",
       "2                         Majestic Realty              Real Estate Investment  \n",
       "3                            Cullen, John              Real Estate Investment  \n",
       "4                      The NRP Group, LLC              Real Estate Investment  \n",
       "5                 The Charter School Fund                       Public School  \n",
       "6                            Rice, Robert              Real Estate Investment  \n",
       "7                         Wilkerson, Eric              Real Estate Investment  \n",
       "8      Riddell Family Limited Partnership              Real Estate Investment  \n",
       "9                              Autoreturn              Real Estate Investment  \n",
       "10                          Goodstone LLC              Real Estate Investment  \n",
       "11                          Safeway, Inc.              Real Estate Investment  \n",
       "12              Hughes Capital Management             Real Estate Development  \n",
       "13             Orangestone Bluegrass, LLC              Real Estate Investment  \n",
       "14               Austin Board of Realtors                         Real Estate  \n",
       "15                 Shapiro, Bobby and Jim              Real Estate Investment  \n",
       "16                       McCullough, Todd              Real Estate Investment  \n",
       "17  HPI Real Estate & Services Investment              Real Estate Investment  \n",
       "18                      TR Vista Preserve              Real Estate Investment  \n",
       "19        Magellan Development Group, LLC              Real Estate Investment  "
      ]
     },
     "execution_count": 23,
     "metadata": {},
     "output_type": "execute_result"
    }
   ],
   "source": [
    "lobby_data.head(20)"
   ]
  },
  {
   "cell_type": "code",
   "execution_count": null,
   "metadata": {
    "collapsed": true
   },
   "outputs": [],
   "source": []
  }
 ],
 "metadata": {
  "kernelspec": {
   "display_name": "Python 3",
   "language": "python",
   "name": "python3"
  },
  "language_info": {
   "codemirror_mode": {
    "name": "ipython",
    "version": 3
   },
   "file_extension": ".py",
   "mimetype": "text/x-python",
   "name": "python",
   "nbconvert_exporter": "python",
   "pygments_lexer": "ipython3",
   "version": "3.5.1"
  }
 },
 "nbformat": 4,
 "nbformat_minor": 0
}
